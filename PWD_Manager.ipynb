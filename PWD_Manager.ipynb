{
  "nbformat": 4,
  "nbformat_minor": 0,
  "metadata": {
    "colab": {
      "provenance": [],
      "authorship_tag": "ABX9TyNTAqErQsB2gE8y9WbATXir"
    },
    "kernelspec": {
      "name": "python3",
      "display_name": "Python 3"
    },
    "language_info": {
      "name": "python"
    }
  },
  "cells": [
    {
      "cell_type": "code",
      "execution_count": null,
      "metadata": {
        "id": "fE6uUgHModSN"
      },
      "outputs": [],
      "source": [
        "from cryptography.fernet import Fernet\n",
        "import json\n",
        "import os\n",
        "\n",
        "# Generating a random key for encryption\n",
        "def generate_key():\n",
        "    return Fernet.generate_key()\n",
        "\n",
        "# Encrypting the data\n",
        "def encrypt_data(data, key):\n",
        "    cipher_suite = Fernet(key)\n",
        "    encrypted_data = cipher_suite.encrypt(data.encode())\n",
        "    return encrypted_data\n",
        "\n",
        "# Decrypting the data\n",
        "def decrypt_data(encrypted_data, key):\n",
        "    cipher_suite = Fernet(key)\n",
        "    decrypted_data = cipher_suite.decrypt(encrypted_data).decode()\n",
        "    return decrypted_data\n",
        "\n",
        "# Username and password inputting\n",
        "def add(key):\n",
        "    username = input(\"Enter username: \")\n",
        "    password = input(\"Enter password: \")\n",
        "\n",
        "    if username and password:\n",
        "        with open(\"passwords.json\", 'a') as f:\n",
        "            encrypted_password = encrypt_data(password, key)\n",
        "            json.dump({username: encrypted_password.decode()}, f)\n",
        "            f.write('\\n')\n",
        "        print(\"Password added successfully!\")\n",
        "    else:\n",
        "        print(\"Error: Please enter both username and password\")\n",
        "\n",
        "# Retrieval of password using username\n",
        "def get(key):\n",
        "    username = input(\"Enter username to retrieve password: \")\n",
        "\n",
        "    passwords = {}\n",
        "    try:\n",
        "        with open(\"passwords.json\", 'r') as f:\n",
        "            for k in f:\n",
        "                passwords.update(json.loads(k))\n",
        "    except FileNotFoundError:\n",
        "        print(\"Error: Password file not found\")\n",
        "\n",
        "    if passwords:\n",
        "        if username in passwords:\n",
        "            decrypted_password = decrypt_data(passwords[username].encode(), key)\n",
        "            print(f\"Password for {username} is {decrypted_password}\")\n",
        "        else:\n",
        "            print(\"No such username exists.\")\n",
        "    else:\n",
        "        print(\"No passwords stored.\")\n",
        "\n",
        "# Generating encryption key\n",
        "encryption_key = generate_key()\n",
        "\n",
        "# Simulation of input\n",
        "add(encryption_key)\n",
        "get(encryption_key)"
      ]
    }
  ]
}